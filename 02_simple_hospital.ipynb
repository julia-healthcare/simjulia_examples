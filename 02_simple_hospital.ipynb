{
 "cells": [
  {
   "cell_type": "markdown",
   "metadata": {},
   "source": [
    "# A simple SimJulia hospital bed simulation\n",
    "\n",
    "This simulation creates patients at random inter-arrival times. They then stay in a hospital (with unlimited beds) for a random length of stay. The code runs a bed audit once a day."
   ]
  },
  {
   "cell_type": "markdown",
   "metadata": {},
   "source": [
    "If required, set up local project environment with `] instantiate` (looks for .toml files in the same directory), and import packages. This will install SimJulia and PyPlot if not already installed.\n",
    "\n",
    "Please see https://benlauwens.github.io/SimJulia.jl/stable/tutorial.html for a basic introduction to SimJulia and https://simjuliajl.readthedocs.io/ for a detailed descriotion.~"
   ]
  },
  {
   "cell_type": "code",
   "execution_count": 1,
   "metadata": {},
   "outputs": [],
   "source": [
    "#] instantiate"
   ]
  },
  {
   "cell_type": "code",
   "execution_count": 2,
   "metadata": {},
   "outputs": [],
   "source": [
    "using StatsBase\n",
    "using PyPlot\n",
    "using ResumableFunctions\n",
    "using SimJulia\n",
    "using Random, Distributions"
   ]
  },
  {
   "cell_type": "markdown",
   "metadata": {},
   "source": [
    "### Set up global variables"
   ]
  },
  {
   "cell_type": "code",
   "execution_count": 3,
   "metadata": {},
   "outputs": [
    {
     "data": {
      "text/plain": [
       "Any[]"
      ]
     },
     "execution_count": 3,
     "metadata": {},
     "output_type": "execute_result"
    }
   ],
   "source": [
    "# Average time between patient arrivals\n",
    "inter_arrival_time = 1\n",
    "# Current beds occupied\n",
    "bed_count = 0\n",
    "# Average length of stay\n",
    "los = 10\n",
    "# Simulation duration\n",
    "sim_duration = 500\n",
    "# Time between bed audits\n",
    "audit_interval = 1\n",
    "# Audit vectors\n",
    "audit_time = []\n",
    "audit_beds = []"
   ]
  },
  {
   "cell_type": "markdown",
   "metadata": {},
   "source": [
    "### Patient pathway"
   ]
  },
  {
   "cell_type": "code",
   "execution_count": 4,
   "metadata": {},
   "outputs": [
    {
     "data": {
      "text/plain": [
       "patient_pathway (generic function with 1 method)"
      ]
     },
     "execution_count": 4,
     "metadata": {},
     "output_type": "execute_result"
    }
   ],
   "source": [
    "@resumable function patient_pathway(env::Environment, p_los::Number)\n",
    "    #=\n",
    "    Patient pathway:\n",
    "    1) Increment bed use (global variable)\n",
    "    2) Sample patient length of stay from exponential distribution\n",
    "    3) Wait length of stay\n",
    "    4) Decrement bed use\n",
    "    =#\n",
    "    \n",
    "    # Record increase in bed use\n",
    "    global bed_count\n",
    "    bed_count += 1\n",
    "    # Sample los from exponential distribution\n",
    "    los = rand(Exponential(p_los))\n",
    "    # Wait for patient los\n",
    "    @yield timeout(env, los)\n",
    "    # Record reduction in bed use\n",
    "    bed_count -= 1\n",
    "end"
   ]
  },
  {
   "cell_type": "markdown",
   "metadata": {},
   "source": [
    "### Generating new arrivals"
   ]
  },
  {
   "cell_type": "code",
   "execution_count": 5,
   "metadata": {},
   "outputs": [
    {
     "data": {
      "text/plain": [
       "new_admission (generic function with 1 method)"
      ]
     },
     "execution_count": 5,
     "metadata": {},
     "output_type": "execute_result"
    }
   ],
   "source": [
    "@resumable function new_admission(\n",
    "        env::Environment, inter_arrival::Number, los::Number)\n",
    "    \n",
    "    #=\n",
    "    Continuous loop of new arrivals:\n",
    "    1) Sample interval until next arrival from exponential distribution\n",
    "    2) Wait for required interval\n",
    "    3) Call a new patient process\n",
    "    =#\n",
    "    \n",
    "    while true\n",
    "        # Get time to next patient arrival from exponential distribution\n",
    "        next_p = rand(Exponential(inter_arrival))\n",
    "        # Wait for next patient arrival\n",
    "        @yield timeout(env, next_p)\n",
    "        # Call patient pathway process\n",
    "        p = @process patient_pathway(env, los)\n",
    "    end\n",
    "end"
   ]
  },
  {
   "cell_type": "markdown",
   "metadata": {},
   "source": [
    "### Regular Bed Audit"
   ]
  },
  {
   "cell_type": "code",
   "execution_count": 6,
   "metadata": {},
   "outputs": [
    {
     "data": {
      "text/plain": [
       "audit (generic function with 1 method)"
      ]
     },
     "execution_count": 6,
     "metadata": {},
     "output_type": "execute_result"
    }
   ],
   "source": [
    "@resumable function audit(env::Environment, interval::Number)\n",
    "    #=\n",
    "    Continuous audit of beds:\n",
    "    1) Wait inter-audit interval\n",
    "    2) Add time to global audit_time vector\n",
    "    3) Add number of occupied beds to global bed audit vector    \n",
    "    =#\n",
    "    \n",
    "    while true\n",
    "        @yield timeout(sim, interval)\n",
    "        global audit_time\n",
    "        global audit_beds\n",
    "        global bed_count\n",
    "        push!(audit_time, now(env))\n",
    "        push!(audit_beds, bed_count)\n",
    "        end\n",
    "    end    "
   ]
  },
  {
   "cell_type": "markdown",
   "metadata": {},
   "source": [
    "### Plot"
   ]
  },
  {
   "cell_type": "code",
   "execution_count": 7,
   "metadata": {},
   "outputs": [
    {
     "data": {
      "text/plain": [
       "plot_beds (generic function with 1 method)"
      ]
     },
     "execution_count": 7,
     "metadata": {},
     "output_type": "execute_result"
    }
   ],
   "source": [
    "function plot_beds(time, beds)\n",
    "    #=\n",
    "    Plot occupied beds over time\n",
    "    =#\n",
    "    fig, ax = plt.subplots()\n",
    "    ax.plot(time, beds)\n",
    "    ax.set_xlabel(\"Day\")\n",
    "    ax.set_ylabel(\"Occupied beds\")\n",
    "    ax.grid()\n",
    "    plt.show()\n",
    "end"
   ]
  },
  {
   "cell_type": "markdown",
   "metadata": {},
   "source": [
    "### Print summary"
   ]
  },
  {
   "cell_type": "code",
   "execution_count": 8,
   "metadata": {},
   "outputs": [
    {
     "data": {
      "text/plain": [
       "print_summary (generic function with 1 method)"
      ]
     },
     "execution_count": 8,
     "metadata": {},
     "output_type": "execute_result"
    }
   ],
   "source": [
    "function print_summary(beds)\n",
    "    #=\n",
    "    Print a summary of occupied beds statistics\n",
    "    =#\n",
    "    \n",
    "    println(\"Mean: \", round(mean(beds), digits=1))\n",
    "    println(\"Stdev: \", round(std(beds), digits=1))\n",
    "    println(\"5th percentile: \", round(percentile(beds, 5), digits=0))\n",
    "    println(\"10th percentile: \", round(percentile(beds, 10), digits=0))\n",
    "    println(\"25th percentile: \", round(percentile(beds, 25), digits=0))\n",
    "    println(\"50th percentile: \", round(percentile(beds, 50), digits=0))\n",
    "    println(\"75th percentile: \", round(percentile(beds, 75), digits=0))\n",
    "    println(\"90th percentile: \", round(percentile(beds, 90), digits=0))\n",
    "    println(\"95th percentile: \", round(percentile(beds, 95), digits=0))\n",
    "    println(\"Max: \", round(maximum(beds), digits=0))    \n",
    "end"
   ]
  },
  {
   "cell_type": "markdown",
   "metadata": {},
   "source": [
    "### Main simulation call"
   ]
  },
  {
   "cell_type": "code",
   "execution_count": 9,
   "metadata": {},
   "outputs": [],
   "source": [
    "# Set up simulation environment\n",
    "sim = Simulation()\n",
    "# Set up starting processes (pass environment to process)\n",
    "@process new_admission(sim, inter_arrival_time, los)\n",
    "@process audit(sim, audit_interval)\n",
    "# Run simulation (pass simulation time)\n",
    "run(sim, sim_duration)"
   ]
  },
  {
   "cell_type": "code",
   "execution_count": 10,
   "metadata": {},
   "outputs": [
    {
     "data": {
      "image/png": "[encoded data removed]",
      "text/plain": [
       "Figure(PyObject <Figure size 640x480 with 1 Axes>)"
      ]
     },
     "metadata": {},
     "output_type": "display_data"
    }
   ],
   "source": [
    "plot_beds(audit_time, audit_beds)"
   ]
  },
  {
   "cell_type": "code",
   "execution_count": 11,
   "metadata": {},
   "outputs": [
    {
     "name": "stdout",
     "output_type": "stream",
     "text": [
      "Mean: 10.3\n",
      "Stdev: 2.9\n",
      "5th percentile: 6.0\n",
      "10th percentile: 7.0\n",
      "25th percentile: 8.0\n",
      "50th percentile: 10.0\n",
      "75th percentile: 12.0\n",
      "90th percentile: 14.0\n",
      "95th percentile: 16.0\n",
      "Max: 19.0\n"
     ]
    }
   ],
   "source": [
    "print_summary(audit_beds)"
   ]
  }
 ],
 "metadata": {
  "kernelspec": {
   "display_name": "Julia 1.5.0",
   "language": "julia",
   "name": "julia-1.5"
  },
  "language_info": {
   "file_extension": ".jl",
   "mimetype": "application/julia",
   "name": "julia",
   "version": "1.5.0"
  }
 },
 "nbformat": 4,
 "nbformat_minor": 4
}
