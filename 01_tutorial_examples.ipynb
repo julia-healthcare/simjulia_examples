{
 "cells": [
  {
   "cell_type": "markdown",
   "metadata": {},
   "source": [
    "# SimJulia tutorial examples\n",
    "\n",
    "See https://benlauwens.github.io/SimJulia.jl/stable/tutorial.html"
   ]
  },
  {
   "cell_type": "markdown",
   "metadata": {},
   "source": [
    "Set up local project environment with `] instantiate` (looks for .toml files in the same directory), and import packages. This will install SimJulia and PyPlot if not already installed."
   ]
  },
  {
   "cell_type": "code",
   "execution_count": 1,
   "metadata": {},
   "outputs": [],
   "source": [
    "] instantiate"
   ]
  },
  {
   "cell_type": "code",
   "execution_count": 2,
   "metadata": {},
   "outputs": [],
   "source": [
    "using ResumableFunctions\n",
    "using SimJulia"
   ]
  },
  {
   "cell_type": "markdown",
   "metadata": {},
   "source": [
    "## Simple simulation"
   ]
  },
  {
   "cell_type": "markdown",
   "metadata": {},
   "source": [
    "Set up car process. The `@resumable` decorator makes this a resumable function which will run continuously, but pass control flow back to the simulation once a `@yield` statement is reached."
   ]
  },
  {
   "cell_type": "code",
   "execution_count": 3,
   "metadata": {},
   "outputs": [
    {
     "data": {
      "text/plain": [
       "car (generic function with 1 method)"
      ]
     },
     "execution_count": 3,
     "metadata": {},
     "output_type": "execute_result"
    }
   ],
   "source": [
    "@resumable function car(env::Environment)\n",
    "           while true\n",
    "             println(\"Start parking at \", now(env))\n",
    "             parking_duration = 5\n",
    "             @yield timeout(env, parking_duration)\n",
    "             println(\"Start driving at \", now(env))\n",
    "             trip_duration = 2\n",
    "             @yield timeout(env, trip_duration)\n",
    "           end\n",
    "         end"
   ]
  },
  {
   "cell_type": "code",
   "execution_count": 4,
   "metadata": {},
   "outputs": [
    {
     "name": "stdout",
     "output_type": "stream",
     "text": [
      "Start parking at 0.0\n",
      "Start driving at 5.0\n",
      "Start parking at 7.0\n",
      "Start driving at 12.0\n",
      "Start parking at 14.0\n"
     ]
    }
   ],
   "source": [
    "# Set up simulation environment\n",
    "sim = Simulation()\n",
    "# Set up starting process (pass environment to process)\n",
    "@process car(sim)\n",
    "# Run simulation (pass simulation time)\n",
    "run(sim, 15)"
   ]
  },
  {
   "cell_type": "markdown",
   "metadata": {},
   "source": [
    "We could continue running the simulation to a later simulation time:"
   ]
  },
  {
   "cell_type": "code",
   "execution_count": 5,
   "metadata": {},
   "outputs": [
    {
     "name": "stdout",
     "output_type": "stream",
     "text": [
      "Start driving at 19.0\n",
      "Start parking at 21.0\n",
      "Start driving at 26.0\n",
      "Start parking at 28.0\n"
     ]
    }
   ],
   "source": [
    "run(sim, 30)"
   ]
  },
  {
   "cell_type": "markdown",
   "metadata": {},
   "source": [
    "## Waiting for a process\n",
    "\n",
    "Now the car is going to be charged, another process, which takes a given time."
   ]
  },
  {
   "cell_type": "code",
   "execution_count": 6,
   "metadata": {},
   "outputs": [
    {
     "name": "stdout",
     "output_type": "stream",
     "text": [
      "Start parking and charging at 0.0\n",
      "Start driving at 5.0\n",
      "Start parking and charging at 7.0\n",
      "Start driving at 12.0\n",
      "Start parking and charging at 14.0\n"
     ]
    }
   ],
   "source": [
    "# Define charging process\n",
    "@resumable function charge(env::Environment, duration::Number)\n",
    "         @yield timeout(env, duration)\n",
    "end\n",
    "\n",
    "# Car process\n",
    "@resumable function car(env::Environment)\n",
    "         while true\n",
    "           # Start charging \n",
    "           println(\"Start parking and charging at \", now(env))\n",
    "           charge_duration = 5\n",
    "           charge_process = @process charge(sim, charge_duration)\n",
    "           @yield charge_process\n",
    "           # Charging has ended. Drive.\n",
    "           println(\"Start driving at \", now(env))\n",
    "           trip_duration = 2\n",
    "           @yield timeout(sim, trip_duration)\n",
    "         end\n",
    "       end\n",
    "\n",
    "# Set up simulation environment\n",
    "sim = Simulation()\n",
    "# Set up starting process (pass environment to process)\n",
    "@process car(sim)\n",
    "# Run simulation (pass simulation time)\n",
    "run(sim, 15)"
   ]
  },
  {
   "cell_type": "markdown",
   "metadata": {},
   "source": [
    "## Interrupting a process\n",
    "\n",
    "Imagine we want to interupt charging, and start driving. We can use the `interrupt` function.\n",
    "\n",
    "The `try` and `catch` syntax will handle what to do if a process is interrupted."
   ]
  },
  {
   "cell_type": "code",
   "execution_count": 7,
   "metadata": {},
   "outputs": [
    {
     "name": "stdout",
     "output_type": "stream",
     "text": [
      "Start parking and charging at 0.0\n",
      "Was interrupted. Hopefully, the battery is full enough ...\n",
      "Start driving at 3.0\n",
      "Start parking and charging at 5.0\n",
      "Start driving at 10.0\n",
      "Start parking and charging at 12.0\n"
     ]
    }
   ],
   "source": [
    "# After waiting three time steps the driver function interupts the car process\n",
    "@resumable function driver(env::Environment, car_process::Process)\n",
    "         @yield timeout(env, 3)\n",
    "         @yield interrupt(car_process)\n",
    "       end\n",
    "\n",
    "# Define charging process\n",
    "@resumable function charge(env::Environment, duration::Number)\n",
    "         @yield timeout(env, duration)\n",
    "       end\n",
    "\n",
    "# Derfine car process\n",
    "@resumable function car(env::Environment)\n",
    "         while true\n",
    "           println(\"Start parking and charging at \", now(env))\n",
    "           charge_duration = 5\n",
    "           charge_process = @process charge(sim, charge_duration)\n",
    "           try\n",
    "             @yield charge_process\n",
    "           catch\n",
    "             println(\"Was interrupted. Hopefully, the battery is full enough ...\")\n",
    "           end\n",
    "           println(\"Start driving at \", now(env))\n",
    "           trip_duration = 2\n",
    "           @yield timeout(sim, trip_duration)\n",
    "         end\n",
    "       end\n",
    "\n",
    "# Set up simulation environment\n",
    "sim = Simulation()\n",
    "# Set up starting processes (pass environment to process)\n",
    "car_process = @process car(sim)\n",
    "@process driver(sim, car_process)\n",
    "# Run simulation (pass simulation time)\n",
    "run(sim, 15)"
   ]
  },
  {
   "cell_type": "markdown",
   "metadata": {},
   "source": [
    "## Shared resources\n",
    "\n",
    "Resources are handled using SimJulia's `Resource` class. We will set up a battery charging station (BCS) resource. We will request and release resources with `@request` and `@release`.\n",
    "\n",
    "In this example we will not run the simulation with a continuous `while` loop. Instead we will pass four process calls to the simulation -  the simulation will automatically stop when there are no more events left."
   ]
  },
  {
   "cell_type": "code",
   "execution_count": 11,
   "metadata": {},
   "outputs": [
    {
     "name": "stdout",
     "output_type": "stream",
     "text": [
      "1 arriving at 2.0\n",
      "1 starting to charge at 2.0\n",
      "2 arriving at 4.0\n",
      "2 starting to charge at 4.0\n",
      "3 arriving at 6.0\n",
      "1 leaving the bcs at 7.0\n",
      "3 starting to charge at 7.0\n",
      "4 arriving at 8.0\n",
      "2 leaving the bcs at 9.0\n",
      "4 starting to charge at 9.0\n",
      "3 leaving the bcs at 12.0\n",
      "4 leaving the bcs at 14.0\n"
     ]
    }
   ],
   "source": [
    "@resumable function car(env::Environment, name::Int, \n",
    "        bcs::Resource, driving_time::Number, charge_duration::Number)\n",
    "         @yield timeout(sim, driving_time)\n",
    "         println(name, \" arriving at \", now(env))\n",
    "         # Reuqest resource\n",
    "         @yield request(bcs, priority=2)\n",
    "         println(name, \" starting to charge at \", now(env))\n",
    "         @yield timeout(sim, charge_duration)\n",
    "         println(name, \" leaving the bcs at \", now(env))\n",
    "         # Resources must be released\n",
    "         @yield release(bcs)\n",
    "       end\n",
    "\n",
    "# Set up simulation environment\n",
    "sim = Simulation()\n",
    "# Set up resource\n",
    "bcs = Resource(sim, 2)\n",
    "\n",
    "# Simulate four cars\n",
    "for i in 1:4\n",
    "         @process car(sim, i, bcs, 2i, 5)\n",
    "       end\n",
    "\n",
    "run(sim)"
   ]
  },
  {
   "cell_type": "code",
   "execution_count": 15,
   "metadata": {},
   "outputs": [
    {
     "data": {
      "text/plain": [
       "3"
      ]
     },
     "execution_count": 15,
     "metadata": {},
     "output_type": "execute_result"
    }
   ],
   "source": [
    "function mysum(a, b=0)\n",
    "    a + b\n",
    "end\n",
    "\n",
    "mysum(2, 1)"
   ]
  },
  {
   "cell_type": "code",
   "execution_count": null,
   "metadata": {},
   "outputs": [],
   "source": []
  }
 ],
 "metadata": {
  "kernelspec": {
   "display_name": "Julia 1.5.0",
   "language": "julia",
   "name": "julia-1.5"
  },
  "language_info": {
   "file_extension": ".jl",
   "mimetype": "application/julia",
   "name": "julia",
   "version": "1.5.0"
  }
 },
 "nbformat": 4,
 "nbformat_minor": 4
}
