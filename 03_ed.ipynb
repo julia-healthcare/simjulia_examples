{
 "cells": [
  {
   "cell_type": "markdown",
   "metadata": {},
   "source": [
    "# A very simple Emergency Department model, with limited resources and patient prioritisation\n",
    "\n",
    "Here we look at a simple ED model, but we use limited resoucres (doctors) and prioritise patients, so that patients are seen by priority (and bu first-in-first-served within a priority band). We will also constrcut a custom Patient type. This construct allows us to store any specific information we want about a patient, allowing the simulation to use patient information in the simulation logic. We will store patient prority and patient pathway times, in this custom type.\n",
    "\n",
    "A scematic of this very simple Emergency Department is shown below:"
   ]
  },
  {
   "cell_type": "markdown",
   "metadata": {},
   "source": [
    "![](./images/ed_1.png)"
   ]
  },
  {
   "cell_type": "markdown",
   "metadata": {},
   "source": [
    "The key coding steps, for a particualr process, in a prioritised resource model are:\n",
    "* `resource = Resource(env, number)`: Set up resource type and max available. Associate with a specific environment (env).\n",
    "* `@yield request(resource,priority=priority)`: request resources. The function will be held here until resources become available.\n",
    "* `@yield timeout(env, time)`: time that resources will remain occupied\n",
    "* `@yield release(resource)`: make resources available again.\n",
    "\n",
    "\n",
    "Please see https://benlauwens.github.io/SimJulia.jl/stable/tutorial.html for a basic introduction to SimJulia."
   ]
  },
  {
   "cell_type": "markdown",
   "metadata": {},
   "source": [
    "## Set up project environment and load packages"
   ]
  },
  {
   "cell_type": "markdown",
   "metadata": {},
   "source": [
    "If required, set up local project environment with `] instantiate` (looks for .toml files in the same directory), and import packages. Alternatively this could be achieved with:\n",
    "\n",
    "```\n",
    "using Pkg\n",
    "Pkg.add(\"PyPlot\")\n",
    "Pkg.add(\"SimJulia\")\n",
    "Pkg.add(\"Distributions\")\n",
    "Pkg.add(\"DataFrames\")\n",
    "```"
   ]
  },
  {
   "cell_type": "code",
   "execution_count": 1,
   "metadata": {},
   "outputs": [],
   "source": [
    "] instantiate"
   ]
  },
  {
   "cell_type": "code",
   "execution_count": 2,
   "metadata": {},
   "outputs": [],
   "source": [
    "#using StatsBase\n",
    "using PyPlot\n",
    "using ResumableFunctions\n",
    "using SimJulia\n",
    "using Random, Distributions\n",
    "using DataFrames"
   ]
  },
  {
   "cell_type": "markdown",
   "metadata": {},
   "source": [
    "## Set up global variables\n",
    "\n",
    "These variables will be accessed (and updated in some cases) using the `@global` prefix in functions."
   ]
  },
  {
   "cell_type": "code",
   "execution_count": 3,
   "metadata": {},
   "outputs": [
    {
     "data": {
      "text/plain": [
       "Any[]"
      ]
     },
     "execution_count": 3,
     "metadata": {},
     "output_type": "execute_result"
    }
   ],
   "source": [
    "# All times are in minutes\n",
    "\n",
    "# SIMULATION CONTROL VARIABLES\n",
    "# ============================\n",
    "\n",
    "# Simulation run time (we omit a simulation warm-up time for simplicity)\n",
    "sim_duration = 10000\n",
    "\n",
    "# Average time between patients arriving\n",
    "inter_arrival_time = 10\n",
    "\n",
    "# Number of doctors in ED\n",
    "number_of_docs = 2\n",
    "\n",
    "# Time between audits\n",
    "audit_interval = 100\n",
    "\n",
    "# Average time patients spends being *treated* in ED\n",
    "appointment_time_mean = 18\n",
    "appointment_time_sd = 9\n",
    "\n",
    "# TRACKING VARIABLES These variables are updated during the simulation run\n",
    "# ========================================================================\n",
    "\n",
    "# Docs currently in use\n",
    "docs_in_use = 0\n",
    "\n",
    "# Vectors used to store audit results\n",
    "audit_time = []\n",
    "audit_patients_waiting = []\n",
    "audit_patients_waiting_p1 = []\n",
    "audit_patients_waiting_p2 = []\n",
    "audit_patients_waiting_p3 = []\n",
    "audit_reources_used = []\n",
    "\n",
    "# Proportion of patients in priorities 1,2,3\n",
    "priority_dist = [0.3, 0.3, 0.4]\n",
    "\n",
    "# Set up counter for number of a ptients entering simulation\n",
    "patient_count = 0\n",
    "\n",
    "# Set up running counts of patients waiting (total and by priority)\n",
    "patients_waiting = 0\n",
    "patients_waiting_by_priority = [0, 0, 0]\n",
    "\n",
    "# Set up vector for patient metrics\n",
    "patient_record = []"
   ]
  },
  {
   "cell_type": "markdown",
   "metadata": {},
   "source": [
    "## Set up Patient type\n",
    "\n",
    "Our custom Patit type will hold:\n",
    "\n",
    "* uid: Unique patient ID \n",
    "* priority: Priority 1-3 (1=highest)\n",
    "* consulation_time: Time needed with doc\n",
    "* queuing_time: Record time spent queing\n",
    "* time_in: Record time arrival\n",
    "* time_see_doc: Record time see doc\n",
    "* time_out: Record exit time\n",
    "\n",
    "We create this as a `struct` and using the prefix `mutable` allows for attribute values to be changed within the simulation."
   ]
  },
  {
   "cell_type": "code",
   "execution_count": 4,
   "metadata": {},
   "outputs": [],
   "source": [
    "mutable struct Patient\n",
    "    #=\n",
    "    Patient type\n",
    "    =#\n",
    "    \n",
    "    uid # Unique patient ID \n",
    "    priority # Priority 1-3 (1=highest)\n",
    "    consulation_time # Time needed with doc\n",
    "    queuing_time # Record time spent queing\n",
    "    time_in # Record time arrival\n",
    "    time_see_doc # Record time see doc\n",
    "    time_out # Record exit time\n",
    "end"
   ]
  },
  {
   "cell_type": "markdown",
   "metadata": {},
   "source": [
    "Define a function to create a new patient. "
   ]
  },
  {
   "cell_type": "code",
   "execution_count": 5,
   "metadata": {},
   "outputs": [
    {
     "data": {
      "text/plain": [
       "patient_init (generic function with 1 method)"
      ]
     },
     "execution_count": 5,
     "metadata": {},
     "output_type": "execute_result"
    }
   ],
   "source": [
    "function patient_init(env)\n",
    "    #=\n",
    "    Create new patient. \n",
    "    =#\n",
    "    \n",
    "    # Set references to global parameters\n",
    "    global patient_count\n",
    "    global priority_dist\n",
    "    global appointment_time_mean\n",
    "    global appointment_time_sd\n",
    "    \n",
    "    # Increment patient count\n",
    "    patient_count += 1\n",
    "    uid = patient_count\n",
    "    \n",
    "    # Sample priority\n",
    "    cum_probs = cumsum(priority_dist)\n",
    "    rand_num = rand()\n",
    "    if rand_num <= cum_probs[1]\n",
    "        p_priority = 1\n",
    "    elseif rand_num <= cum_probs[2]\n",
    "        p_priority = 2\n",
    "    else\n",
    "        p_priority = 3\n",
    "    end\n",
    "    \n",
    "    #= Sample Sample time (assume log normal distribution). Note: log parameters\n",
    "    are estimates from mean and sd. In a real sim fit σ & μ directly to data =#\n",
    "    m = appointment_time_mean\n",
    "    s = appointment_time_sd\n",
    "    \n",
    "    σ_log = s/m * 0.85\n",
    "    μ_log = log(m) - σ_log^2/2\n",
    "    d = LogNormal(μ_log, σ_log)\n",
    "    consult_time = rand(d)\n",
    "    \n",
    "    # Set inital times (these will be updated in sim)\n",
    "    queuing_time = 0 \n",
    "    time_in = now(env)\n",
    "    time_see_doc = 0\n",
    "    time_out = 0    \n",
    "    \n",
    "    # Create and return patient\n",
    "    patient = Patient(uid, p_priority, consult_time, queuing_time, time_in,\n",
    "        time_see_doc, time_out)\n",
    "    \n",
    "    return patient\n",
    "\n",
    "end      "
   ]
  },
  {
   "cell_type": "markdown",
   "metadata": {},
   "source": [
    "## Generating new arrivals (process)\n",
    "\n",
    "This process (resumable) function is a continuous loop that creates new patients and passess them to the patient pathway. A `@yield timeout(time)` call is used to introduce a delay, between new patients, in the loop. The inter-arrival time between patients is sampled from an exponential distribution."
   ]
  },
  {
   "cell_type": "code",
   "execution_count": 6,
   "metadata": {},
   "outputs": [
    {
     "data": {
      "text/plain": [
       "new_admission (generic function with 1 method)"
      ]
     },
     "execution_count": 6,
     "metadata": {},
     "output_type": "execute_result"
    }
   ],
   "source": [
    "@resumable function new_admission(env)\n",
    "    \n",
    "    #=\n",
    "    Continuous loop of new arrivals:\n",
    "    1) Sample interval until next arrival from exponential distribution\n",
    "    2) Wait for required interval\n",
    "    3) Call a new patient process\n",
    "    =#\n",
    "    \n",
    "    # Set references to global parameters\n",
    "    global inter_arrival_time    \n",
    "    \n",
    "    while true\n",
    "        # Get time to next patient arrival from exponential distribution\n",
    "        next_p = rand(Exponential(inter_arrival_time))\n",
    "        # Wait for next patient arrival\n",
    "        @yield timeout(env, next_p)\n",
    "        # Generate patient\n",
    "        patient = patient_init(env)\n",
    "        # Call patient pathway process\n",
    "        @process patient_pathway(env, patient, doc)\n",
    "    end\n",
    "end"
   ]
  },
  {
   "cell_type": "markdown",
   "metadata": {},
   "source": [
    "## Patient pathway (process)\n",
    "\n",
    "This process (resumable) function describes the patient journey. It requests resources (and the time those resources are allocated depend on the priority of the patient; doctors will always see the highest priority patients first).\n",
    "\n",
    "Here we have just a single process step with a single resource type (doctor). "
   ]
  },
  {
   "cell_type": "code",
   "execution_count": 7,
   "metadata": {},
   "outputs": [
    {
     "data": {
      "text/plain": [
       "patient_pathway (generic function with 1 method)"
      ]
     },
     "execution_count": 7,
     "metadata": {},
     "output_type": "execute_result"
    }
   ],
   "source": [
    "@resumable function patient_pathway(env::Environment, patient::Patient, \n",
    "        doc::Resource)\n",
    "    \n",
    "    # Set references to global parameters\n",
    "    global patient_queue\n",
    "    global patients_waiting\n",
    "    global patients_waiting_by_priority\n",
    "    global patient_record\n",
    "    global docs_in_use\n",
    "    \n",
    "    # Increment patient counts\n",
    "    patients_waiting += 1\n",
    "    patients_waiting_by_priority[patient.priority] += 1\n",
    "    \n",
    "    # Request resources\n",
    "    @yield request(doc, priority=patient.priority)\n",
    "    # Got resource, adjust trackers\n",
    "    docs_in_use += 1\n",
    "    patients_waiting -= 1\n",
    "    patients_waiting_by_priority[patient.priority] -= 1\n",
    "    patient.time_see_doc = now(env)\n",
    "    patient.queuing_time = patient.time_see_doc - patient.time_in\n",
    "    # Time with doc\n",
    "    @yield timeout(env, patient.consulation_time)\n",
    "    # Release doc,  adjust trackers\n",
    "    @yield release(doc)\n",
    "    docs_in_use -= 1\n",
    "    patient.time_out = now(env)\n",
    "    # Transfer all of info from Patient struct to global patient_record vector\n",
    "    patient_info = [patient.uid, patient.priority, patient.consulation_time,\n",
    "        patient.queuing_time, patient.time_in, patient.time_see_doc,\n",
    "        patient.time_out]\n",
    "    push!(patient_record, patient_info)    \n",
    "    \n",
    "end\n"
   ]
  },
  {
   "cell_type": "markdown",
   "metadata": {},
   "source": [
    "## Audit function (process)\n",
    "\n",
    "The audit function is run at intervals (in a continuous `while` loop using `@yield timeout` for a fixed delay between audits. The function pushes the following to global trackers:\n",
    "\n",
    "* audit_time: Time of audit (minutes from start)\n",
    "* audit_patients_waiting: Total patients waiting to see doc\n",
    "* audit_patients_waiting_p1: Priority 1 patients waiting to see doc\n",
    "* audit_patients_waiting_p2: Priority 2 patients waiting to see doc\n",
    "* audit_patients_waiting_p3: Priority 3 patients waiting to see doc\n",
    "* audit_reources_used: Number of docs in use"
   ]
  },
  {
   "cell_type": "code",
   "execution_count": 8,
   "metadata": {},
   "outputs": [
    {
     "data": {
      "text/plain": [
       "run_audit (generic function with 1 method)"
      ]
     },
     "execution_count": 8,
     "metadata": {},
     "output_type": "execute_result"
    }
   ],
   "source": [
    "@resumable function run_audit(env::Environment)\n",
    "    \n",
    "    global audit_time\n",
    "    global audit_patients_waiting\n",
    "    global audit_patients_waiting_p1\n",
    "    global audit_patients_waiting_p2\n",
    "    global audit_patients_waiting_p3\n",
    "    global audit_reources_used\n",
    "    global audit_interval\n",
    "    global docs_in_use\n",
    "    \n",
    "    while true        \n",
    "        # Add current state to trackers\n",
    "        push!(audit_time, now(env))\n",
    "        push!(audit_patients_waiting, patients_waiting)\n",
    "        push!(audit_patients_waiting_p1, patients_waiting_by_priority[1])\n",
    "        push!(audit_patients_waiting_p2, patients_waiting_by_priority[2])\n",
    "        push!(audit_patients_waiting_p3, patients_waiting_by_priority[3])\n",
    "        push!(audit_reources_used, docs_in_use)\n",
    "        # Wait before next audit\n",
    "        @yield timeout(env, audit_interval)\n",
    "    end\n",
    "end   "
   ]
  },
  {
   "cell_type": "markdown",
   "metadata": {},
   "source": [
    "## Main simulation run\n",
    "\n",
    "The main simulatin run has the following steps:\n",
    "\n",
    "* Set up SimJulia environment\n",
    "* Set up resources\n",
    "* Initalise processes\n",
    "* Run Sim"
   ]
  },
  {
   "cell_type": "code",
   "execution_count": 9,
   "metadata": {},
   "outputs": [],
   "source": [
    "# Set up simulation environment\n",
    "env = Simulation()\n",
    "# Set up resources\n",
    "doc = Resource(env, number_of_docs)\n",
    "# Set up starting processes (pass environment to process)\n",
    "@process new_admission(env)\n",
    "@process run_audit(env)\n",
    "# Run simulation (pass simulation time)\n",
    "run(env, sim_duration)"
   ]
  },
  {
   "cell_type": "markdown",
   "metadata": {},
   "source": [
    "## Summarise results\n",
    "\n",
    "Below we will summarise some key results using `DataFrames` and plot some key results using `PyPlot`.\n",
    "\n",
    "### Summarise queuing times using DataFrames\n",
    "\n",
    "We will summarise queuing times by priority using a DataFrame. The steps are:\n",
    "\n",
    "* Convert vector of patient info into a matrx\n",
    "* Create a DataFrame from the patient record matrix and list of column names\n",
    "* Use `groupby` to create a vector of DataFrames by patient priority\n",
    "* Use `combine` to store the mean, standard dev, and *n* for each priority. These are assigned to a new DataFrame.\n",
    "* Sort summary table by priority"
   ]
  },
  {
   "cell_type": "code",
   "execution_count": 10,
   "metadata": {},
   "outputs": [
    {
     "data": {
      "text/html": [
       "<table class=\"data-frame\"><thead><tr><th></th><th>priority</th><th>Mean</th><th>Std</th><th>n</th></tr><tr><th></th><th>Float64</th><th>Float64</th><th>Float64</th><th>Int64</th></tr></thead><tbody><p>3 rows × 4 columns</p><tr><th>1</th><td>1.0</td><td>5.52495</td><td>6.12653</td><td>292</td></tr><tr><th>2</th><td>2.0</td><td>12.4895</td><td>16.0624</td><td>297</td></tr><tr><th>3</th><td>3.0</td><td>56.0003</td><td>89.4478</td><td>387</td></tr></tbody></table>"
      ],
      "text/latex": [
       "\\begin{tabular}{r|cccc}\n",
       "\t& priority & Mean & Std & n\\\\\n",
       "\t\\hline\n",
       "\t& Float64 & Float64 & Float64 & Int64\\\\\n",
       "\t\\hline\n",
       "\t1 & 1.0 & 5.52495 & 6.12653 & 292 \\\\\n",
       "\t2 & 2.0 & 12.4895 & 16.0624 & 297 \\\\\n",
       "\t3 & 3.0 & 56.0003 & 89.4478 & 387 \\\\\n",
       "\\end{tabular}\n"
      ],
      "text/plain": [
       "3×4 DataFrame\n",
       "│ Row │ priority │ Mean    │ Std     │ n     │\n",
       "│     │ \u001b[90mFloat64\u001b[39m  │ \u001b[90mFloat64\u001b[39m │ \u001b[90mFloat64\u001b[39m │ \u001b[90mInt64\u001b[39m │\n",
       "├─────┼──────────┼─────────┼─────────┼───────┤\n",
       "│ 1   │ 1.0      │ 5.52495 │ 6.12653 │ 292   │\n",
       "│ 2   │ 2.0      │ 12.4895 │ 16.0624 │ 297   │\n",
       "│ 3   │ 3.0      │ 56.0003 │ 89.4478 │ 387   │"
      ]
     },
     "execution_count": 10,
     "metadata": {},
     "output_type": "execute_result"
    }
   ],
   "source": [
    "# Turn patient record vector in matrix\n",
    "patient_record_matrix = transpose(reduce(hcat, patient_record))\n",
    "\n",
    "# Create DataFrame from matrix\n",
    "col_names = [\"uid\", \"priority\", \"consulation_time\", \"queuing_time\", \"time_in\", \n",
    "    \"time_see_doc\", \"time_out\"]\n",
    "df = DataFrame(patient_record_matrix, col_names)\n",
    "\n",
    "# Create separate DataFrames by priority, using groupy method\n",
    "gdf = groupby(df, :priority)\n",
    "\n",
    "# Combine summary results from grouped DataFrames\n",
    "priority_group_summary = combine(gdf, \n",
    "    :queuing_time => mean => \"Mean\", \n",
    "    :queuing_time => std => \"Std\",\n",
    "    :queuing_time => length => \"n\")\n",
    "\n",
    "# Sort summary table\n",
    "sort!(priority_group_summary, [:priority])"
   ]
  },
  {
   "cell_type": "markdown",
   "metadata": {},
   "source": [
    "### Plot patients waiting and waiting time by priority\n",
    "\n",
    "Here we use PyPlot (almost identical in syntax to Pythons MatPlotLib) to plot queues over time, and to show a violin (distribution) plot of waiting times for each patient priority group. We refer back to the DataFrame just created to get queuing times for each priority, using an array comprehension construct."
   ]
  },
  {
   "cell_type": "code",
   "execution_count": 11,
   "metadata": {},
   "outputs": [
    {
     "data": {
      "image/png": "[encoded data removed]",
      "text/plain": [
       "Figure(PyObject <Figure size 800x500 with 2 Axes>)"
      ]
     },
     "metadata": {},
     "output_type": "display_data"
    }
   ],
   "source": [
    "# Set up overall figure\n",
    "fig, axs = plt.subplots(1, 2, figsize=(8,5))\n",
    "fig.tight_layout(pad=3)\n",
    "# Plot queues over time\n",
    "axs[1].plot(audit_time, audit_patients_waiting, label=\"Total\", color=\"k\")\n",
    "axs[1].plot(audit_time, audit_patients_waiting_p1, label=\"Priority 1\", color=\"r\")\n",
    "axs[1].plot(audit_time, audit_patients_waiting_p2, label=\"Priority 2\", color=\"y\")\n",
    "axs[1].plot(audit_time, audit_patients_waiting_p3, label=\"Priority 3\", color=\"b\")\n",
    "axs[1].legend()\n",
    "axs[1].set_xlabel(\"Time\")\n",
    "axs[1].set_ylabel(\"Patients waiting\")\n",
    "axs[1].set_title(\"Number of patients waiting\n",
    "    (over time, by priority)\")\n",
    "# Violin plot of queuing time distributions\n",
    "# Get queuing time for each priority (use vector comprehension)\n",
    "samples = [df.queuing_time[df.priority.==i, :] for i in 1:3]\n",
    "axs[2].violinplot(samples, showmedians=true, widths=0.8)\n",
    "axs[2].set_xticks([1,2,3])\n",
    "axs[2].set_xlabel(\"Priority\")\n",
    "axs[2].set_ylabel(\"Waiting time\")\n",
    "axs[2].set_title(\"Violin plot for waiting times.\n",
    "    Bars show min, median, and max.\")\n",
    "# Display plot\n",
    "plt.show()"
   ]
  }
 ],
 "metadata": {
  "kernelspec": {
   "display_name": "Julia 1.5.0",
   "language": "julia",
   "name": "julia-1.5"
  },
  "language_info": {
   "file_extension": ".jl",
   "mimetype": "application/julia",
   "name": "julia",
   "version": "1.5.0"
  }
 },
 "nbformat": 4,
 "nbformat_minor": 4
}
